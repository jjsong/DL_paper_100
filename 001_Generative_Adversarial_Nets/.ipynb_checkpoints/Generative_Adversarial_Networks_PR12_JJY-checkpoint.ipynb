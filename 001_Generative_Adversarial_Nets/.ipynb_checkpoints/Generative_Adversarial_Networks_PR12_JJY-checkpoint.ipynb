{
 "cells": [
  {
   "cell_type": "markdown",
   "metadata": {},
   "source": [
    "# Generative Adversarial Networks"
   ]
  },
  {
   "cell_type": "code",
   "execution_count": null,
   "metadata": {
    "collapsed": true
   },
   "outputs": [],
   "source": []
  },
  {
   "cell_type": "markdown",
   "metadata": {},
   "source": [
    "![](GAN_PR12_JJY/GAN_000001.jpg)\n",
    "![](GAN_PR12_JJY/GAN_000002.jpg)\n",
    "![](GAN_PR12_JJY/GAN_000003.jpg)\n",
    "![](GAN_PR12_JJY/GAN_000004.jpg)\n",
    "![](GAN_PR12_JJY/GAN_000005.jpg)\n",
    "![](GAN_PR12_JJY/GAN_000006.jpg)\n",
    "![](GAN_PR12_JJY/GAN_000007.jpg)\n",
    "![](GAN_PR12_JJY/GAN_000008.jpg)\n",
    "![](GAN_PR12_JJY/GAN_000009.jpg)\n",
    "![](GAN_PR12_JJY/GAN_000010.jpg)\n",
    "![](GAN_PR12_JJY/GAN_000011.jpg)\n",
    "![](GAN_PR12_JJY/GAN_000012.jpg)\n",
    "![](GAN_PR12_JJY/GAN_000013.jpg)\n",
    "![](GAN_PR12_JJY/GAN_000014.jpg)\n",
    "![](GAN_PR12_JJY/GAN_000015.jpg)\n",
    "![](GAN_PR12_JJY/GAN_000016.jpg)\n",
    "![](GAN_PR12_JJY/GAN_000017.jpg)\n",
    "![](GAN_PR12_JJY/GAN_000018.jpg)\n",
    "![](GAN_PR12_JJY/GAN_000019.jpg)\n",
    "![](GAN_PR12_JJY/GAN_000020.jpg)\n",
    "![](GAN_PR12_JJY/GAN_000021.jpg)\n",
    "![](GAN_PR12_JJY/GAN_000022.jpg)\n",
    "![](GAN_PR12_JJY/GAN_000023.jpg)\n",
    "![](GAN_PR12_JJY/GAN_000024.jpg)\n",
    "![](GAN_PR12_JJY/GAN_000025.jpg)\n",
    "![](GAN_PR12_JJY/GAN_000026.jpg)\n",
    "![](GAN_PR12_JJY/GAN_000027.jpg)\n",
    "![](GAN_PR12_JJY/GAN_000028.jpg)\n",
    "![](GAN_PR12_JJY/GAN_000029.jpg)\n",
    "![](GAN_PR12_JJY/GAN_000030.jpg)\n",
    "![](GAN_PR12_JJY/GAN_000031.jpg)\n",
    "![](GAN_PR12_JJY/GAN_000032.jpg)\n",
    "![](GAN_PR12_JJY/GAN_000033.jpg)\n",
    "![](GAN_PR12_JJY/GAN_000034.jpg)\n",
    "![](GAN_PR12_JJY/GAN_000035.jpg)\n",
    "![](GAN_PR12_JJY/GAN_000036.jpg)\n",
    "![](GAN_PR12_JJY/GAN_000037.jpg)\n",
    "![](GAN_PR12_JJY/GAN_000038.jpg)\n",
    "![](GAN_PR12_JJY/GAN_000039.jpg)\n",
    "![](GAN_PR12_JJY/GAN_000040.jpg)\n",
    "![](GAN_PR12_JJY/GAN_000041.jpg)\n",
    "![](GAN_PR12_JJY/GAN_000042.jpg)\n",
    "![](GAN_PR12_JJY/GAN_000043.jpg)\n",
    "![](GAN_PR12_JJY/GAN_000044.jpg)\n",
    "![](GAN_PR12_JJY/GAN_000045.jpg)\n",
    "![](GAN_PR12_JJY/GAN_000046.jpg)\n",
    "![](GAN_PR12_JJY/GAN_000047.jpg)\n",
    "![](GAN_PR12_JJY/GAN_000048.jpg)\n",
    "![](GAN_PR12_JJY/GAN_000049.jpg)\n",
    "![](GAN_PR12_JJY/GAN_000050.jpg)\n",
    "![](GAN_PR12_JJY/GAN_000051.jpg)\n",
    "![](GAN_PR12_JJY/GAN_000052.jpg)\n"
   ]
  }
 ],
 "metadata": {
  "hide_input": false,
  "kernelspec": {
   "display_name": "Python 2",
   "language": "python",
   "name": "python2"
  },
  "language_info": {
   "codemirror_mode": {
    "name": "ipython",
    "version": 2
   },
   "file_extension": ".py",
   "mimetype": "text/x-python",
   "name": "python",
   "nbconvert_exporter": "python",
   "pygments_lexer": "ipython2",
   "version": "2.7.12"
  },
  "latex_envs": {
   "bibliofile": "biblio.bib",
   "cite_by": "apalike",
   "current_citInitial": 1,
   "eqLabelWithNumbers": true,
   "eqNumInitial": 0
  },
  "nav_menu": {},
  "toc": {
   "navigate_menu": true,
   "number_sections": true,
   "sideBar": true,
   "threshold": 6,
   "toc_cell": false,
   "toc_section_display": "block",
   "toc_window_display": false
  }
 },
 "nbformat": 4,
 "nbformat_minor": 2
}
